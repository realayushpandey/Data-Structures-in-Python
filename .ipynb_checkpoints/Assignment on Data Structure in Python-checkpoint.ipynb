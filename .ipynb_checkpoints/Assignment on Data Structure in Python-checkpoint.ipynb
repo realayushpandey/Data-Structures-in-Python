{
 "cells": [
  {
   "cell_type": "markdown",
   "id": "20265aa1-1c89-43a3-9baa-20ca7ddb64b7",
   "metadata": {},
   "source": [
    "# 1.Write a code to reverse a string."
   ]
  },
  {
   "cell_type": "code",
   "execution_count": 1,
   "id": "85901fdc-7ed9-4199-b764-a82890e31e06",
   "metadata": {},
   "outputs": [
    {
     "data": {
      "text/plain": [
       "'yednaP hsuyA ma I'"
      ]
     },
     "execution_count": 1,
     "metadata": {},
     "output_type": "execute_result"
    }
   ],
   "source": [
    "str = \"I am Ayush Pandey\"\n",
    "str[::-1]"
   ]
  },
  {
   "cell_type": "markdown",
   "id": "4ff057d2-6800-47b5-b536-34c94dc4a6b1",
   "metadata": {},
   "source": [
    "# 2. Write a code to count the number of vowels in a string."
   ]
  },
  {
   "cell_type": "code",
   "execution_count": 2,
   "id": "9459bc78-60c8-4049-aba9-e0c601db04cf",
   "metadata": {},
   "outputs": [
    {
     "name": "stdout",
     "output_type": "stream",
     "text": [
      "Number of vowels: 8\n"
     ]
    }
   ],
   "source": [
    "str1 = \"i am very talented person\"\n",
    "count = 0\n",
    "for char in str1:\n",
    "    if char in \"aeiouAEIOU\":\n",
    "        count += 1\n",
    "print(\"Number of vowels:\", count)"
   ]
  },
  {
   "cell_type": "markdown",
   "id": "180d8346-d0b4-4087-9463-235c88e4807f",
   "metadata": {},
   "source": [
    "# 3. Write a code to check if a given string is s palindrome or not."
   ]
  },
  {
   "cell_type": "code",
   "execution_count": 3,
   "id": "5fc61254-4ecc-4d9b-afe2-d0897ca434c7",
   "metadata": {
    "tags": []
   },
   "outputs": [
    {
     "name": "stdout",
     "output_type": "stream",
     "text": [
      "Yes\n"
     ]
    }
   ],
   "source": [
    "s = \"reviver\"\n",
    "ans = s[::-1]\n",
    "if ans == s:\n",
    "    print(\"Yes\")\n",
    "else:\n",
    "    print(\"No\")\n",
    "#insights>> as here reviver ia a palidrome word so it will print yes"
   ]
  },
  {
   "cell_type": "code",
   "execution_count": 4,
   "id": "62878eb2-ff7d-481c-8e15-45b8e898390f",
   "metadata": {},
   "outputs": [
    {
     "name": "stdout",
     "output_type": "stream",
     "text": [
      "No\n"
     ]
    }
   ],
   "source": [
    "s = \"Ayush\"\n",
    "ans = s[::-1]\n",
    "if ans == s:\n",
    "    print(\"Yes\")\n",
    "else:\n",
    "    print(\"No\")\n",
    "#insights>> as here Ayush ia not a palindrome word so it will print No"
   ]
  },
  {
   "cell_type": "markdown",
   "id": "02778eb9-664a-443a-b2fc-27905024b618",
   "metadata": {},
   "source": [
    "# 4.Write a code to check if two given strings are anagrams of each other."
   ]
  },
  {
   "cell_type": "code",
   "execution_count": 5,
   "id": "7ef5f8b6-9396-4d02-a32d-ade21f8d4278",
   "metadata": {},
   "outputs": [
    {
     "name": "stdout",
     "output_type": "stream",
     "text": [
      "Strings are anagrams\n"
     ]
    }
   ],
   "source": [
    "s1 = \"dusty\"\n",
    "s2 = \"study\"\n",
    "\n",
    "if (sorted(s1) == sorted(s2)) :\n",
    "    print(\"Strings are anagrams\")\n",
    "else:\n",
    "    print(\"Strings are not anagrams\")\n",
    "#insights>> here a we can se s1 and s2 are anagrams so result showing that these are anagrams"
   ]
  },
  {
   "cell_type": "code",
   "execution_count": 6,
   "id": "d5aa3d29-8c08-4f60-8335-15999e39f45e",
   "metadata": {},
   "outputs": [
    {
     "name": "stdout",
     "output_type": "stream",
     "text": [
      "Strings are not anagrams\n"
     ]
    }
   ],
   "source": [
    "s3 = \"war\"\n",
    "s4 = \"car\"\n",
    "\n",
    "if (sorted(s3) == sorted(s4)) :\n",
    "    print(\"Strings are anagrams\")\n",
    "else:\n",
    "    print(\"Strings are not anagrams\")\n",
    "#insights>> here a we can se s3 and s4 are not anagrams so result showing that these are not anagrams"
   ]
  },
  {
   "cell_type": "markdown",
   "id": "4d9d7bef-b6bc-40ac-96b7-ef05edf6cab5",
   "metadata": {},
   "source": [
    "# 5. Write a code to find all occurrences of a given substring within another string."
   ]
  },
  {
   "cell_type": "code",
   "execution_count": 7,
   "id": "38068927-9e84-4ef1-94b5-7edf993a3cd2",
   "metadata": {},
   "outputs": [
    {
     "name": "stdout",
     "output_type": "stream",
     "text": [
      "['W', 'We', 'Wel', 'Welc', 'Welco', 'Welcom', 'Welcome', 'e', 'el', 'elc', 'elco', 'elcom', 'elcome', 'l', 'lc', 'lco', 'lcom', 'lcome', 'c', 'co', 'com', 'come', 'o', 'om', 'ome', 'm', 'me', 'e']\n"
     ]
    }
   ],
   "source": [
    "str2 = \"Welcome\"\n",
    "subs= []\n",
    "for i in range(0,len(str1)):\n",
    "    for j in range(i+1,len(str2)+1):\n",
    "        subs.append(str2[i:j])\n",
    "print(subs)"
   ]
  },
  {
   "cell_type": "code",
   "execution_count": 8,
   "id": "f46810f7-2409-46bb-bebe-5797b6005f0e",
   "metadata": {},
   "outputs": [
    {
     "name": "stdout",
     "output_type": "stream",
     "text": [
      "['A', 'Ay', 'Ayu', 'Ayus', 'Ayush', 'y', 'yu', 'yus', 'yush', 'u', 'us', 'ush', 's', 'sh', 'h']\n"
     ]
    }
   ],
   "source": [
    "str2 = \"Ayush\"\n",
    "subs= []\n",
    "for i in range(0,len(str1)):\n",
    "    for j in range(i+1,len(str2)+1):\n",
    "        subs.append(str2[i:j])\n",
    "print(subs)"
   ]
  },
  {
   "cell_type": "markdown",
   "id": "0a817ead-f596-42dc-8edf-84614bfd540b",
   "metadata": {},
   "source": [
    "# 6. Write a code to perform basic string compression using the counts of repeated characters."
   ]
  },
  {
   "cell_type": "code",
   "execution_count": 1,
   "id": "9a12d452-2cfa-4c60-a353-f2169d0526a3",
   "metadata": {},
   "outputs": [
    {
     "name": "stdout",
     "output_type": "stream",
     "text": [
      "Compressed string: a2b3c4d2\n"
     ]
    }
   ],
   "source": [
    "def compress_string(s):\n",
    "    compressed_string = \"\"\n",
    "    count = 1\n",
    "    for i in range(len(s)):\n",
    "        if i == len(s) - 1 or s[i] != s[i + 1]:\n",
    "            compressed_string += s[i] + str(count)\n",
    "            count = 1\n",
    "        else:\n",
    "            count += 1\n",
    "    return compressed_string if len(compressed_string) < len(s) else s\n",
    "\n",
    "input_string = \"aabbbccccdd\"\n",
    "compressed = compress_string(input_string)\n",
    "print(\"Compressed string:\", compressed)"
   ]
  },
  {
   "cell_type": "markdown",
   "id": "b4d6c116-0852-498c-b3ba-6485fa93e90d",
   "metadata": {},
   "source": [
    "# 7. Write a code to determine if a string has all unique characters."
   ]
  },
  {
   "cell_type": "code",
   "execution_count": 2,
   "id": "505f94cc-6212-46ad-af8f-dd6562e9ab3c",
   "metadata": {},
   "outputs": [
    {
     "name": "stdout",
     "output_type": "stream",
     "text": [
      "True\n",
      "False\n"
     ]
    }
   ],
   "source": [
    "def check_unique_chars(s):\n",
    "    a = set()\n",
    "    for char in s:\n",
    "        if char in a:\n",
    "            return False\n",
    "        a.add(char)\n",
    "    return True\n",
    "print(check_unique_chars(\"abcdef\"))\n",
    "print(check_unique_chars(\"awww\"))"
   ]
  },
  {
   "cell_type": "markdown",
   "id": "174c70f1-c5fd-42db-aa6a-4509a2506d9f",
   "metadata": {},
   "source": [
    "# 8. Write a code to convert a given string to uppercase or lowercase."
   ]
  },
  {
   "cell_type": "code",
   "execution_count": 3,
   "id": "4be54dc2-2102-4bf4-a72d-eadf1790030e",
   "metadata": {},
   "outputs": [
    {
     "data": {
      "text/plain": [
       "'MY naMe iS AyuSh pAndEY'"
      ]
     },
     "execution_count": 3,
     "metadata": {},
     "output_type": "execute_result"
    }
   ],
   "source": [
    "text = \"MY naMe iS AyuSh pAndEY\"\n",
    "text"
   ]
  },
  {
   "cell_type": "code",
   "execution_count": 4,
   "id": "9e2e587e-4ee8-4361-9aa3-b51926455dfb",
   "metadata": {},
   "outputs": [
    {
     "data": {
      "text/plain": [
       "'MY NAME IS AYUSH PANDEY'"
      ]
     },
     "execution_count": 4,
     "metadata": {},
     "output_type": "execute_result"
    }
   ],
   "source": [
    "#uppercase\n",
    "text.upper()"
   ]
  },
  {
   "cell_type": "code",
   "execution_count": 5,
   "id": "da2c2f58-dae9-4d36-8403-1d0fbd681b0f",
   "metadata": {},
   "outputs": [
    {
     "data": {
      "text/plain": [
       "'my name is ayush pandey'"
      ]
     },
     "execution_count": 5,
     "metadata": {},
     "output_type": "execute_result"
    }
   ],
   "source": [
    "#lowercase\n",
    "text.lower()"
   ]
  },
  {
   "cell_type": "markdown",
   "id": "2aa45a37-016d-4834-99ff-4843b55766aa",
   "metadata": {},
   "source": [
    "# 9. Write a code to count the number of words in a string."
   ]
  },
  {
   "cell_type": "code",
   "execution_count": 6,
   "id": "b5c0f178-7d78-420d-b2fe-0348db2a9c4f",
   "metadata": {},
   "outputs": [
    {
     "name": "stdout",
     "output_type": "stream",
     "text": [
      "10\n"
     ]
    }
   ],
   "source": [
    "s = \"DataSkills\"\n",
    "count = 0\n",
    "for i in s:\n",
    "    count += 1\n",
    "print(count)"
   ]
  },
  {
   "cell_type": "code",
   "execution_count": 7,
   "id": "5fc19af9-44a3-4bb5-bd0c-74955bf67660",
   "metadata": {},
   "outputs": [
    {
     "name": "stdout",
     "output_type": "stream",
     "text": [
      "15\n"
     ]
    }
   ],
   "source": [
    "a = \"hey how are you\"\n",
    "count = 0\n",
    "for i in a:\n",
    "    count += 1\n",
    "print(count)"
   ]
  },
  {
   "cell_type": "markdown",
   "id": "97ac8244-e3a7-40ed-8566-7f4a47f4747e",
   "metadata": {},
   "source": [
    "# 10. Write a code to concatenate two strings without using the + operator."
   ]
  },
  {
   "cell_type": "code",
   "execution_count": 8,
   "id": "067e68ac-c6e9-4baa-921c-1a77c8a59d97",
   "metadata": {},
   "outputs": [
    {
     "name": "stdout",
     "output_type": "stream",
     "text": [
      "Concatenated string: Hello, World!\n"
     ]
    }
   ],
   "source": [
    "def concatenate_strings(str1, str2):\n",
    "    return \"\".join([str1, str2])\n",
    "string1 = \"Hello, \"\n",
    "string2 = \"World!\"\n",
    "concatenated_string = concatenate_strings(string1, string2)\n",
    "print(\"Concatenated string:\", concatenated_string)"
   ]
  },
  {
   "cell_type": "markdown",
   "id": "42f30976-4f6c-403e-aaa0-1c5d838c3be1",
   "metadata": {},
   "source": [
    "# 11. Write a code to remove all occurrences of a specific element from a list."
   ]
  },
  {
   "cell_type": "code",
   "execution_count": 9,
   "id": "5680ca2f-c9ed-4ea4-a896-b7e8c3407bec",
   "metadata": {},
   "outputs": [
    {
     "name": "stdout",
     "output_type": "stream",
     "text": [
      "Original list: [1, 2, 3, 4, 1, 5, 1]\n",
      "final list after removal of all occurrences: [2, 3, 4, 5]\n"
     ]
    }
   ],
   "source": [
    "list2 = [1, 2, 3, 4, 1, 5, 1,]\n",
    "remove1 = 1\n",
    "print(\"Original list:\", list2)\n",
    "c = list2.count(remove1)\n",
    "for i in range(c):\n",
    "    list2.remove(remove1)\n",
    "print(\"final list after removal of all occurrences:\" , list2)"
   ]
  },
  {
   "cell_type": "markdown",
   "id": "6c2f9f85-3dc1-4010-a1b9-1eb901decc81",
   "metadata": {},
   "source": [
    "# 12. Implement a code to find the second largest number in a given list of integers."
   ]
  },
  {
   "cell_type": "code",
   "execution_count": 10,
   "id": "844aac46-673e-4b8d-9b93-528c3dbc6c52",
   "metadata": {},
   "outputs": [
    {
     "name": "stdout",
     "output_type": "stream",
     "text": [
      "Second largest no is: 4\n"
     ]
    }
   ],
   "source": [
    "my_list = [1, 2, 3, 4, 1, 5, 1,]\n",
    "list1 = list(set(my_list))  #Remove duplicates from the list\n",
    "list1.sort()    #sorting the list\n",
    "print(\"Second largest no is:\" , list1[-2])"
   ]
  },
  {
   "cell_type": "markdown",
   "id": "4c3054cb-eeda-4ace-ad93-a75ff095212a",
   "metadata": {},
   "source": [
    "# 13. Create a code to count the occurrences of each element in a list and return a dictionary with elements as keys and their counts as values."
   ]
  },
  {
   "cell_type": "code",
   "execution_count": 11,
   "id": "b8ef8572-a065-4068-9ed4-d10f09cd7cf0",
   "metadata": {},
   "outputs": [
    {
     "name": "stdout",
     "output_type": "stream",
     "text": [
      "the element 1 occurs 4 times\n"
     ]
    }
   ],
   "source": [
    "my_list = [1.,4,6,5,1,9,0,1,2,1,] \n",
    "ele = 1\n",
    "x = [i for i in my_list if i==ele]\n",
    "print(\"the element\", ele, \"occurs\", len(x), \"times\")"
   ]
  },
  {
   "cell_type": "markdown",
   "id": "3ee93d02-cc88-4e7a-b0ad-e7e40c43b0e6",
   "metadata": {},
   "source": [
    "# 14. Write a code to reverse a list in-place without using any built-in reserve functions."
   ]
  },
  {
   "cell_type": "code",
   "execution_count": 12,
   "id": "0336a569-42f1-407f-a0ad-562c6c830941",
   "metadata": {},
   "outputs": [
    {
     "name": "stdout",
     "output_type": "stream",
     "text": [
      "[6, 'data', 'Sejal', 4, 'Ayush', 3]\n"
     ]
    }
   ],
   "source": [
    "list1 = [3, \"Ayush\", 4, \"Sejal\", \"data\", 6]\n",
    "a = list1[::-1]\n",
    "print(a)"
   ]
  },
  {
   "cell_type": "markdown",
   "id": "77f2a3cf-41bd-4a28-b407-164578bc36e4",
   "metadata": {},
   "source": [
    "# 15. Implement a code to find and remove duplicates from a list while preserving the original order of elements."
   ]
  },
  {
   "cell_type": "code",
   "execution_count": 13,
   "id": "7c22ecbb-68b8-426d-b6ff-2ecc2d2b335f",
   "metadata": {},
   "outputs": [
    {
     "name": "stdout",
     "output_type": "stream",
     "text": [
      "[1, 3, 4, 5]\n"
     ]
    }
   ],
   "source": [
    "list2 = (3,4,1,5,1,5,4,3,5,1,3,4,4,3,5,1,4,5,3,1,4,3,5,1)\n",
    "print(list(set(list2)))"
   ]
  },
  {
   "cell_type": "markdown",
   "id": "be03858c-575e-4779-9782-690513d08856",
   "metadata": {},
   "source": [
    "# 16. Create a code to check if a given list is sorted (either in ascending or descending order) or not."
   ]
  },
  {
   "cell_type": "code",
   "execution_count": 14,
   "id": "442b4ea0-b770-4a05-a197-97ce0a2bc6a5",
   "metadata": {},
   "outputs": [
    {
     "name": "stdout",
     "output_type": "stream",
     "text": [
      "The list is sorted in ascending order.\n",
      "The list is sorted in descending order.\n",
      "The list is not sorted.\n"
     ]
    }
   ],
   "source": [
    "def is_sorted(lst):\n",
    "    if all(lst[i] <= lst[i + 1] for i in range(len(lst) - 1)):\n",
    "        return \"The list is sorted in ascending order.\"\n",
    "    elif all(lst[i] >= lst[i + 1] for i in range(len(lst) - 1)):\n",
    "        return \"The list is sorted in descending order.\"\n",
    "    else:\n",
    "        return \"The list is not sorted.\"\n",
    "    \n",
    "lst1 = [1, 2, 3, 4, 5]\n",
    "lst2 = [5, 4, 3, 2, 1]\n",
    "lst3 = [1, 3, 2, 4, 5]\n",
    "\n",
    "print(is_sorted(lst1))\n",
    "print(is_sorted(lst2))\n",
    "print(is_sorted(lst3))\n"
   ]
  },
  {
   "cell_type": "markdown",
   "id": "39da6c98-085c-48e2-a2dd-c4aa6a3d260e",
   "metadata": {},
   "source": [
    "# 17. Write a code to merge two sorted lists into a single sorted list."
   ]
  },
  {
   "cell_type": "code",
   "execution_count": 15,
   "id": "7e29ab6f-ff20-49ca-b580-f8668391d598",
   "metadata": {},
   "outputs": [
    {
     "data": {
      "text/plain": [
       "[0, 1, 2, 3, 4, 5, 6, 7, 8, 9]"
      ]
     },
     "execution_count": 15,
     "metadata": {},
     "output_type": "execute_result"
    }
   ],
   "source": [
    "l1 = [1, 3, 4, 7]\n",
    "l2 = [0, 2, 5, 6, 8, 9]\n",
    "sorted(l1 + l2)"
   ]
  },
  {
   "cell_type": "markdown",
   "id": "fd0e35e6-c80a-43a3-9def-e2a873925470",
   "metadata": {},
   "source": [
    "# 18. Implement a code to find the intersection of two given lists."
   ]
  },
  {
   "cell_type": "code",
   "execution_count": 16,
   "id": "9afc8cd5-bae3-4829-b9d6-f891a561db9a",
   "metadata": {},
   "outputs": [
    {
     "name": "stdout",
     "output_type": "stream",
     "text": [
      "[1, 2, 3, 4, 5, 9]\n"
     ]
    }
   ],
   "source": [
    "def intersection_list(list1, list2):  \n",
    "   return list(set(list1) & set(list2))  \n",
    "  \n",
    "list1 = [4, 7, 1, 5, 3, 2, 2, 5, 9]  \n",
    "list2 = [5, 9, 6, 3, 4, 1, 6, 2, 2]  \n",
    "  \n",
    "print(intersection_list(list1, list2))"
   ]
  },
  {
   "cell_type": "markdown",
   "id": "6372a730-8d6d-41be-af93-75d1ce29fb25",
   "metadata": {},
   "source": [
    "# 19. Create a code to find the union of two lists without duplicates."
   ]
  },
  {
   "cell_type": "code",
   "execution_count": 17,
   "id": "82490683-7edf-4c84-83a8-20410671c5d6",
   "metadata": {},
   "outputs": [
    {
     "name": "stdout",
     "output_type": "stream",
     "text": [
      "[1, 2, 3, 4, 5, 6, 7, 8, 9]\n"
     ]
    }
   ],
   "source": [
    "def union_list(list1, list2):  \n",
    "   return list(set(list1) | set(list2))  \n",
    "  \n",
    "list1 = [1,2,3,4,5]  \n",
    "list2 = [6,7,8,9,]  \n",
    "  \n",
    "print(union_list(list1, list2))"
   ]
  },
  {
   "cell_type": "markdown",
   "id": "3d2ce139-d0ea-4e9f-a4c5-b7a0bb2cf968",
   "metadata": {},
   "source": [
    "# 20. Write a code to shuffle a given list randomly without using any built-in shuffle functions."
   ]
  },
  {
   "cell_type": "code",
   "execution_count": 18,
   "id": "51408544-b5c8-453c-af20-9869cc94d968",
   "metadata": {},
   "outputs": [
    {
     "name": "stdout",
     "output_type": "stream",
     "text": [
      "Original list: [1, 2, 3, 4, 5]\n",
      "Shuffled list: [5, 3, 1, 4, 2]\n"
     ]
    }
   ],
   "source": [
    "import random\n",
    "\n",
    "def shuffle_list(arr):\n",
    "    n = len(arr)\n",
    "    \n",
    "    for i in range(n-1, 0, -1):\n",
    "        j = random.randint(0, i)\n",
    "        \n",
    "        arr[i], arr[j] = arr[j], arr[i]\n",
    "\n",
    "my_list = [1, 2, 3, 4, 5]\n",
    "print(\"Original list:\", my_list)\n",
    "\n",
    "shuffle_list(my_list)\n",
    "print(\"Shuffled list:\", my_list)"
   ]
  },
  {
   "cell_type": "markdown",
   "id": "2f8d5a7c-a283-4f03-8a51-80898fe44295",
   "metadata": {},
   "source": [
    "# 21. Write a code that takes two tuples as input and returns a new tuple containing elements that are common to both input tuples."
   ]
  },
  {
   "cell_type": "code",
   "execution_count": 19,
   "id": "ba913dbe-df7f-41a3-ae55-ea6bfa63ffcc",
   "metadata": {},
   "outputs": [
    {
     "name": "stdout",
     "output_type": "stream",
     "text": [
      "(4, 5, 6)\n"
     ]
    }
   ],
   "source": [
    "def common_elements(tuple1, tuple2):\n",
    "\n",
    "    set1 = set(tuple1)\n",
    "    set2 = set(tuple2)\n",
    "    common_set = set1 & set2\n",
    "    common_tuple = tuple(common_set) \n",
    "    return common_tuple\n",
    "\n",
    "tuple1 = (1, 2, 3, 4, 5, 6)\n",
    "tuple2 = (4, 5, 6, 7, 8, 9)\n",
    "\n",
    "result = common_elements(tuple1, tuple2)\n",
    "print(result)"
   ]
  },
  {
   "cell_type": "markdown",
   "id": "dd23081f-ae5e-42f7-8572-ff5278b6e856",
   "metadata": {},
   "source": [
    "# 22. Create a code that prompts the user to enter two sets of integers seperated by commas. Then, print the intersection of these two sets."
   ]
  },
  {
   "cell_type": "code",
   "execution_count": 20,
   "id": "66194c5b-c8d5-4b6d-bd73-fce30f256233",
   "metadata": {},
   "outputs": [
    {
     "name": "stdin",
     "output_type": "stream",
     "text": [
      "Enter the first set of integers, separated by commas:  1, 2, 3, 4\n",
      "Enter the second set of integers, separated by commas:  3, 4, 5, 6\n"
     ]
    },
    {
     "name": "stdout",
     "output_type": "stream",
     "text": [
      "The intersection of the two sets is: {3, 4}\n"
     ]
    }
   ],
   "source": [
    "def get_integer_set(prompt):\n",
    "    \n",
    "    user_input = input(prompt)\n",
    "    integer_set = set(map(int, user_input.split(',')))\n",
    "    return integer_set\n",
    "\n",
    "set1 = get_integer_set(\"Enter the first set of integers, separated by commas: \")\n",
    "\n",
    "set2 = get_integer_set(\"Enter the second set of integers, separated by commas: \")\n",
    "\n",
    "intersection = set1 & set2\n",
    "\n",
    "print(\"The intersection of the two sets is:\", intersection)"
   ]
  },
  {
   "cell_type": "markdown",
   "id": "0126d033-8b54-4e7c-a36a-18465978794e",
   "metadata": {},
   "source": [
    "# 23. Write a code to concatenate two tuples. The function should take two tuples as input and return a new tuple containing elements from both input tuples."
   ]
  },
  {
   "cell_type": "code",
   "execution_count": 18,
   "id": "27c13e09-18fb-4947-b4be-1b09a1991f99",
   "metadata": {},
   "outputs": [
    {
     "name": "stdout",
     "output_type": "stream",
     "text": [
      "(1, 2, 3, 4, 5, 6)\n"
     ]
    }
   ],
   "source": [
    "def concatenate_tuples(tuple1, tuple2):\n",
    "    return tuple1 + tuple2\n",
    "\n",
    "tuple1 = (1, 2, 3)\n",
    "tuple2 = (4, 5, 6)\n",
    "result = concatenate_tuples(tuple1, tuple2)\n",
    "print(result)"
   ]
  },
  {
   "cell_type": "markdown",
   "id": "e0c1ca57-b427-4b3b-90b3-7337775ad55d",
   "metadata": {},
   "source": [
    "# 24. Develop a code that prompts the user to input two sets of strings. Then print the elements that are present in the first set but not in the second set."
   ]
  },
  {
   "cell_type": "code",
   "execution_count": 21,
   "id": "8992fa40-e45f-4906-999b-6242c85fe60e",
   "metadata": {},
   "outputs": [
    {
     "name": "stdin",
     "output_type": "stream",
     "text": [
      "Enter the first set of strings (separated by spaces):  Python Datascience Machinelearning\n",
      "Enter the second set of strings (separated by spaces):  Machinelearning Deeplearning Artificialintelligence\n"
     ]
    },
    {
     "name": "stdout",
     "output_type": "stream",
     "text": [
      "Elements present in the first set but not in the second set:\n",
      "Python\n",
      "Datascience\n"
     ]
    }
   ],
   "source": [
    "def input_set(prompt):\n",
    "    return set(input(prompt).split())\n",
    "\n",
    "def main():\n",
    "    set1 = input_set(\"Enter the first set of strings (separated by spaces): \")\n",
    "    set2 = input_set(\"Enter the second set of strings (separated by spaces): \")\n",
    "\n",
    "    difference = set1 - set2\n",
    "\n",
    "    print(\"Elements present in the first set but not in the second set:\")\n",
    "    for element in difference:\n",
    "        print(element)\n",
    "\n",
    "if __name__ == \"__main__\":\n",
    "    main()"
   ]
  },
  {
   "cell_type": "markdown",
   "id": "c251f215-fb5b-43a2-81fc-c2bb7d92fc2f",
   "metadata": {},
   "source": [
    "# 25. Create a code that takes a tuple and two integers as input. The function should return a new tuple containing elements from the original tuple within the specified range of indices."
   ]
  },
  {
   "cell_type": "code",
   "execution_count": 24,
   "id": "e3f8b847-0aa5-43b3-91ae-f62148d492aa",
   "metadata": {},
   "outputs": [
    {
     "name": "stdout",
     "output_type": "stream",
     "text": [
      "(3, 4, 5, 6)\n"
     ]
    }
   ],
   "source": [
    "def extract_subtuple(tpl, start, end):\n",
    "    if start < 0 or end >= len(tpl) or start > end:\n",
    "        raise ValueError(\"Invalid start or end index\")\n",
    "    return tpl[start:end+1]\n",
    "\n",
    "original_tuple = (1, 2, 3, 4, 5, 6, 7)\n",
    "start_index = 2\n",
    "end_index = 5\n",
    "\n",
    "new_tuple = extract_subtuple(original_tuple, start_index, end_index)\n",
    "print(new_tuple)"
   ]
  },
  {
   "cell_type": "markdown",
   "id": "9da9353f-2cd7-4a27-b9dd-e9c421031e17",
   "metadata": {},
   "source": [
    "# 26. Write a code that prompts the user to input two sets of characters. Then print the union of these two sets."
   ]
  },
  {
   "cell_type": "code",
   "execution_count": 2,
   "id": "6a7f7e4e-cd9a-45df-b71e-63fc418bcb48",
   "metadata": {},
   "outputs": [
    {
     "name": "stdin",
     "output_type": "stream",
     "text": [
      "Enter the first set of characters:  abc\n",
      "Enter the second set of characters:  bcd\n"
     ]
    },
    {
     "name": "stdout",
     "output_type": "stream",
     "text": [
      "The union of the two sets is: {'b', 'a', 'c', 'd'}\n"
     ]
    }
   ],
   "source": [
    "def get_char_set(prompt):\n",
    "    user_input = input(prompt)\n",
    "    return set(user_input)\n",
    "\n",
    "set1 = get_char_set(\"Enter the first set of characters: \")\n",
    "set2 = get_char_set(\"Enter the second set of characters: \")\n",
    "\n",
    "union_set = set1.union(set2)\n",
    "\n",
    "print(\"The union of the two sets is:\", union_set)"
   ]
  },
  {
   "cell_type": "markdown",
   "id": "7e99134c-09e6-4f7b-ac60-a06fcd86325b",
   "metadata": {},
   "source": [
    "# 27. Develop a code that takes a tuple of integers as input. The function should return the maximum and minimum values from the tuple using tuple unpacking."
   ]
  },
  {
   "cell_type": "code",
   "execution_count": 27,
   "id": "5b2d32e8-0316-45ec-93d3-ecc7509940c7",
   "metadata": {},
   "outputs": [
    {
     "name": "stdout",
     "output_type": "stream",
     "text": [
      "Maximum value: 9\n",
      "Minimum value: 1\n"
     ]
    }
   ],
   "source": [
    "def find_max_min(input_tuple):\n",
    "    maximum = max(input_tuple)\n",
    "    minimum = min(input_tuple)\n",
    "    return maximum, minimum\n",
    "\n",
    "input_tuple = (3, 7, 1, 9, 2)\n",
    "max_value, min_value = find_max_min(input_tuple)\n",
    "print(\"Maximum value:\", max_value)\n",
    "print(\"Minimum value:\", min_value)"
   ]
  },
  {
   "cell_type": "markdown",
   "id": "0fb84a55-4e9e-4a01-831d-0fc8c294d7cb",
   "metadata": {},
   "source": [
    "# 28. Create a code that defines two sets of integers. Th\n",
    "en print the union, intersection, and difference of these two sets."
   ]
  },
  {
   "cell_type": "code",
   "execution_count": 31,
   "id": "2a87df74-bbc2-4ad5-8c97-485d6811c891",
   "metadata": {},
   "outputs": [
    {
     "name": "stdout",
     "output_type": "stream",
     "text": [
      "{1, 2, 3, 4, 5, 6, 7, 8}\n",
      "{4, 5}\n",
      "{1, 2, 3}\n"
     ]
    }
   ],
   "source": [
    "s1 = {1, 2, 3, 4, 5}\n",
    "s2 = {4, 5, 6, 7, 8}\n",
    "\n",
    "# Union of the sets\n",
    "print(s1 | s2)\n",
    "# Intersection of the sets\n",
    "print(s1 & s2)\n",
    "# Difference between the sets\n",
    "print(s1 - s2)"
   ]
  },
  {
   "cell_type": "markdown",
   "id": "25f47223-a159-40df-92ce-f1895320f512",
   "metadata": {},
   "source": [
    "# 29. Write a code that takes a tuple and an element as input. The function should return the count of occurrences of the given element in the tuple."
   ]
  },
  {
   "cell_type": "code",
   "execution_count": 35,
   "id": "defc8885-6b6d-49de-a9de-26f2a39f45df",
   "metadata": {},
   "outputs": [
    {
     "name": "stdout",
     "output_type": "stream",
     "text": [
      "5\n"
     ]
    }
   ],
   "source": [
    "def count_occurrences(tup, element):\n",
    "    count = 0\n",
    "    for item in tup:\n",
    "        if item == element:\n",
    "            count += 1\n",
    "    return count\n",
    "\n",
    "my_tuple = (4, 6, 3, 4, 4, 4, 5, 4, 8)\n",
    "countelement = 4\n",
    "print(count_occurrences(my_tuple, countelement))"
   ]
  },
  {
   "cell_type": "markdown",
   "id": "91955bb3-0095-495c-9611-f2711a1453d5",
   "metadata": {},
   "source": [
    "# 30. Develop a code that prompts the user to input two sets of strings. Then print the symmetric difference of these two sets."
   ]
  },
  {
   "cell_type": "code",
   "execution_count": 4,
   "id": "d48edf21-d451-405c-9e22-4621a82dc0f5",
   "metadata": {},
   "outputs": [
    {
     "name": "stdin",
     "output_type": "stream",
     "text": [
      "Enter the first set of strings (separated by spaces):  Ayush Utkarsh Sankalp\n",
      "Enter the second set of strings (separated by spaces):  Prince Nitin Harshit\n"
     ]
    },
    {
     "name": "stdout",
     "output_type": "stream",
     "text": [
      "The symmetric difference between the two sets is:\n",
      "{'Utkarsh', 'Prince', 'Nitin', 'Sankalp', 'Ayush', 'Harshit'}\n"
     ]
    }
   ],
   "source": [
    "def get_set_from_input(prompt):\n",
    "    user_input = input(prompt)\n",
    "    return set(user_input.split())\n",
    "\n",
    "set1 = get_set_from_input(\"Enter the first set of strings (separated by spaces): \")\n",
    "set2 = get_set_from_input(\"Enter the second set of strings (separated by spaces): \")\n",
    "\n",
    "symmetric_difference = set1.symmetric_difference(set2)\n",
    "\n",
    "print(\"The symmetric difference between the two sets is:\")\n",
    "print(symmetric_difference)"
   ]
  },
  {
   "cell_type": "markdown",
   "id": "06200479-d99c-46ba-b0f8-b09300db9b95",
   "metadata": {},
   "source": [
    "# 31. Write a code that takes a list of words as input and returns a dictionary where the keys are unique words and the values are the frequencies of those words in the input list."
   ]
  },
  {
   "cell_type": "code",
   "execution_count": 39,
   "id": "5f8d3172-4a67-435f-b75a-37d3f69faf2f",
   "metadata": {},
   "outputs": [
    {
     "name": "stdout",
     "output_type": "stream",
     "text": [
      "{'ayush': 3, 'praveen': 2, 'harshit': 1}\n"
     ]
    }
   ],
   "source": [
    "def word_freq(lst):\n",
    "    freq_dict = {}\n",
    "    for word in lst:\n",
    "        if word in freq_dict:\n",
    "            freq_dict[word] += 1\n",
    "        else:\n",
    "            freq_dict[word] = 1\n",
    "    return freq_dict\n",
    "\n",
    "lst = [\"ayush\", \"praveen\", \"ayush\", \"praveen\", \"harshit\", \"ayush\"]\n",
    "result = word_freq(lst)\n",
    "print(result)"
   ]
  },
  {
   "cell_type": "markdown",
   "id": "60e51d4e-bb7e-482c-bbe7-8e62de68bc11",
   "metadata": {},
   "source": [
    "#32. Write a code that takes two dictionaries as input and merges them into a single dictionary. If there are common keys, the values should be added together."
   ]
  },
  {
   "cell_type": "code",
   "execution_count": 43,
   "id": "add07525-3b88-4784-9080-17509816d3b3",
   "metadata": {},
   "outputs": [
    {
     "name": "stdout",
     "output_type": "stream",
     "text": [
      "{'a': 10, 'b': 25, 'c': 35, 'd': 21}\n"
     ]
    }
   ],
   "source": [
    "def merge_dicts(d1, d2):\n",
    "    merged_dict = d1.copy()\n",
    "    for key, value in d2.items():\n",
    "        if key in merged_dict:\n",
    "            merged_dict[key] += value\n",
    "        else:\n",
    "            merged_dict[key] = value\n",
    "    return merged_dict\n",
    "\n",
    "d1 = {'a': 10, 'b': 14, 'c': 19}\n",
    "d2 = {'b': 11, 'c': 16, 'd': 21}\n",
    "merged = merge_dicts(d1, d2)\n",
    "print(merged)"
   ]
  },
  {
   "cell_type": "markdown",
   "id": "95b0687c-e882-45b7-a4d4-cb4e2ca3a7c9",
   "metadata": {},
   "source": [
    "# 33. Write a code to access a value in a nested dictionary. The function should take the dictionary and a list of keys as input, and return the corresponding value. If any of the keys do not exist in the dictionary, the function should return None."
   ]
  },
  {
   "cell_type": "code",
   "execution_count": 5,
   "id": "a4d81851-77b7-4e36-94ed-3a5e1d3e9d81",
   "metadata": {},
   "outputs": [
    {
     "name": "stdout",
     "output_type": "stream",
     "text": [
      "42\n",
      "None\n"
     ]
    }
   ],
   "source": [
    "def get_nested_value(nested_dict, keys):\n",
    "    current_dict = nested_dict\n",
    "    for key in keys:\n",
    "        if isinstance(current_dict, dict) and key in current_dict:\n",
    "            current_dict = current_dict[key]\n",
    "        else:\n",
    "            return None\n",
    "    return current_dict\n",
    "\n",
    "nested_dict = {\n",
    "    'a': {\n",
    "        'b': {\n",
    "            'c': 42\n",
    "        }\n",
    "    }\n",
    "}\n",
    "keys = ['a', 'b', 'c']\n",
    "print(get_nested_value(nested_dict, keys))\n",
    "\n",
    "keys = ['a', 'b', 'd']\n",
    "print(get_nested_value(nested_dict, keys))"
   ]
  },
  {
   "cell_type": "markdown",
   "id": "e3f222fa-c88c-4309-ae90-d1909b39d95b",
   "metadata": {},
   "source": [
    "# 34. Write a code that takes a dictionary as input and returns a sorted version of it based on the values. You can choose whether to sort in ascending or descending order."
   ]
  },
  {
   "cell_type": "code",
   "execution_count": 6,
   "id": "528db691-86bd-4716-b851-976be99e7688",
   "metadata": {},
   "outputs": [
    {
     "name": "stdout",
     "output_type": "stream",
     "text": [
      "Original dictionary: {'a': 3, 'b': 1, 'c': 2, 'd': 4}\n",
      "Sorted dictionary (ascending): {'b': 1, 'c': 2, 'a': 3, 'd': 4}\n",
      "Sorted dictionary (descending): {'d': 4, 'a': 3, 'c': 2, 'b': 1}\n"
     ]
    }
   ],
   "source": [
    "def sort_dict_by_values(d, ascending=True):\n",
    "\n",
    "    sorted_dict = dict(sorted(d.items(), key=lambda item: item[1], reverse=not ascending))\n",
    "    return sorted_dict\n",
    "\n",
    "example_dict = {'a': 3, 'b': 1, 'c': 2, 'd': 4}\n",
    "sorted_dict_ascending = sort_dict_by_values(example_dict)\n",
    "sorted_dict_descending = sort_dict_by_values(example_dict, ascending=False)\n",
    "\n",
    "print(\"Original dictionary:\", example_dict)\n",
    "print(\"Sorted dictionary (ascending):\", sorted_dict_ascending)\n",
    "print(\"Sorted dictionary (descending):\", sorted_dict_descending)"
   ]
  },
  {
   "cell_type": "markdown",
   "id": "b3e2a4fa-0451-483a-889f-9e135ddccd5f",
   "metadata": {},
   "source": [
    "# 35. Write a code that inverts a dictionary, swapping keys and values. Ensure that the inverted dictionary correctly handles cases where multiple keys have the same value by storing the keys as a list in the inverted dictionary."
   ]
  },
  {
   "cell_type": "code",
   "execution_count": 8,
   "id": "368bfd33-041a-4c43-8b64-e6339810fa95",
   "metadata": {},
   "outputs": [
    {
     "name": "stdout",
     "output_type": "stream",
     "text": [
      "{1: ['a', 'c'], 2: ['b', 'e'], 3: ['d']}\n"
     ]
    }
   ],
   "source": [
    "def invert_dict(d):\n",
    "    inverted = {}\n",
    "    for key, value in d.items():\n",
    "        if value not in inverted:\n",
    "            inverted[value] = []\n",
    "        inverted[value].append(key)\n",
    "    return inverted\n",
    "\n",
    "original_dict = {\n",
    "    'a': 1,\n",
    "    'b': 2,\n",
    "    'c': 1,\n",
    "    'd': 3,\n",
    "    'e': 2\n",
    "}\n",
    "\n",
    "inverted_dict = invert_dict(original_dict)\n",
    "print(inverted_dict)"
   ]
  },
  {
   "cell_type": "code",
   "execution_count": null,
   "id": "99a7dc07-3e1c-4e8d-bb5f-d5503f5e720d",
   "metadata": {},
   "outputs": [],
   "source": []
  }
 ],
 "metadata": {
  "kernelspec": {
   "display_name": "Python 3 (ipykernel)",
   "language": "python",
   "name": "python3"
  },
  "language_info": {
   "codemirror_mode": {
    "name": "ipython",
    "version": 3
   },
   "file_extension": ".py",
   "mimetype": "text/x-python",
   "name": "python",
   "nbconvert_exporter": "python",
   "pygments_lexer": "ipython3",
   "version": "3.10.8"
  }
 },
 "nbformat": 4,
 "nbformat_minor": 5
}
